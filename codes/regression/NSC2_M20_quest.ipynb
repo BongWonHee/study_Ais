{
 "cells": [
  {
   "cell_type": "code",
   "execution_count": 1,
   "id": "4cebb198-e2d9-4d78-9b14-99b07ad7a6cc",
   "metadata": {
    "tags": []
   },
   "outputs": [],
   "source": [
    "import pymongo as mg"
   ]
  },
  {
   "cell_type": "code",
   "execution_count": 2,
   "id": "14e6b2fa-04af-4f07-9048-cc92b12bc95c",
   "metadata": {
    "tags": []
   },
   "outputs": [],
   "source": [
    "client = mg.MongoClient(host='mongodb://localhost:27017/')"
   ]
  },
  {
   "cell_type": "code",
   "execution_count": 3,
   "id": "32604283-ec8e-4113-91d8-29fb4d4d6419",
   "metadata": {
    "tags": []
   },
   "outputs": [
    {
     "data": {
      "text/plain": [
       "Database(MongoClient(host=['localhost:27017'], document_class=dict, tz_aware=False, connect=True), 'db_NHIS')"
      ]
     },
     "execution_count": 3,
     "metadata": {},
     "output_type": "execute_result"
    }
   ],
   "source": [
    "database=client['db_NHIS']\n",
    "database"
   ]
  },
  {
   "cell_type": "code",
   "execution_count": 4,
   "id": "d594bd4b-1fc7-4063-a111-d1e8b24627c1",
   "metadata": {
    "tags": []
   },
   "outputs": [],
   "source": [
    "collection = database['NSC2_M20']"
   ]
  },
  {
   "cell_type": "code",
   "execution_count": 5,
   "id": "1aa14ca3-129b-4356-beb5-3779a6f939a6",
   "metadata": {
    "tags": []
   },
   "outputs": [
    {
     "data": {
      "text/plain": [
       "<pymongo.cursor.Cursor at 0x1a06000afd0>"
      ]
     },
     "execution_count": 5,
     "metadata": {},
     "output_type": "execute_result"
    }
   ],
   "source": [
    "collection.find({})"
   ]
  },
  {
   "cell_type": "code",
   "execution_count": 6,
   "id": "8d1919a9-5a95-48b8-ab7d-2a0208e007ca",
   "metadata": {
    "tags": []
   },
   "outputs": [],
   "source": [
    "cursor = collection.find({})"
   ]
  },
  {
   "cell_type": "code",
   "execution_count": 7,
   "id": "965158a8-b8a1-469f-aba9-e532893bb5d2",
   "metadata": {
    "tags": []
   },
   "outputs": [],
   "source": [
    "list = list(cursor)"
   ]
  },
  {
   "cell_type": "code",
   "execution_count": 5,
   "id": "01b08a00-e06e-454e-8ff2-c5f144e50627",
   "metadata": {
    "tags": []
   },
   "outputs": [],
   "source": [
    "import pandas as pd"
   ]
  },
  {
   "cell_type": "code",
   "execution_count": 9,
   "id": "9fa492b0-08b9-444e-a43e-93ba0fccf43b",
   "metadata": {
    "tags": []
   },
   "outputs": [
    {
     "data": {
      "text/html": [
       "<div>\n",
       "<style scoped>\n",
       "    .dataframe tbody tr th:only-of-type {\n",
       "        vertical-align: middle;\n",
       "    }\n",
       "\n",
       "    .dataframe tbody tr th {\n",
       "        vertical-align: top;\n",
       "    }\n",
       "\n",
       "    .dataframe thead th {\n",
       "        text-align: right;\n",
       "    }\n",
       "</style>\n",
       "<table border=\"1\" class=\"dataframe\">\n",
       "  <thead>\n",
       "    <tr style=\"text-align: right;\">\n",
       "      <th></th>\n",
       "      <th>_id</th>\n",
       "      <th>RN_INDI</th>\n",
       "      <th>RN_KEY</th>\n",
       "      <th>RN_INST</th>\n",
       "      <th>MDCARE_STRT_DT</th>\n",
       "      <th>FORM_CD</th>\n",
       "      <th>MCARE_SUBJ_CD</th>\n",
       "      <th>SICK_SYM1</th>\n",
       "      <th>OFIJ_TYPE</th>\n",
       "      <th>OPRTN_YN</th>\n",
       "      <th>...</th>\n",
       "      <th>MCARE_RSLT_TYPE</th>\n",
       "      <th>EDC_ADD_RT</th>\n",
       "      <th>ED_RC_TOT_AMT</th>\n",
       "      <th>EDC_SBA</th>\n",
       "      <th>EDC_INSUR_BRDN_AMT</th>\n",
       "      <th>STD_YYYY</th>\n",
       "      <th>HSPTZ_PATH_TYPE</th>\n",
       "      <th>SICK_SYM2</th>\n",
       "      <th>SPCF_SYM_TYPE</th>\n",
       "      <th>FST_HSPTZ_DT</th>\n",
       "    </tr>\n",
       "  </thead>\n",
       "  <tbody>\n",
       "    <tr>\n",
       "      <th>0</th>\n",
       "      <td>64e5b7af9cdc27394f4c7c55</td>\n",
       "      <td>429577</td>\n",
       "      <td>2002070826167</td>\n",
       "      <td>101494</td>\n",
       "      <td>20020729</td>\n",
       "      <td>3</td>\n",
       "      <td>15</td>\n",
       "      <td>B07</td>\n",
       "      <td>0</td>\n",
       "      <td>0</td>\n",
       "      <td>...</td>\n",
       "      <td>5.0</td>\n",
       "      <td>0.15</td>\n",
       "      <td>10590</td>\n",
       "      <td>3000</td>\n",
       "      <td>7590</td>\n",
       "      <td>2002</td>\n",
       "      <td>NaN</td>\n",
       "      <td>NaN</td>\n",
       "      <td>NaN</td>\n",
       "      <td>NaN</td>\n",
       "    </tr>\n",
       "    <tr>\n",
       "      <th>1</th>\n",
       "      <td>64e5b7af9cdc27394f4c7c56</td>\n",
       "      <td>362517</td>\n",
       "      <td>2002070388352</td>\n",
       "      <td>82780</td>\n",
       "      <td>20020729</td>\n",
       "      <td>3</td>\n",
       "      <td>14</td>\n",
       "      <td>B354</td>\n",
       "      <td>NaN</td>\n",
       "      <td>0</td>\n",
       "      <td>...</td>\n",
       "      <td>5.0</td>\n",
       "      <td>0.15</td>\n",
       "      <td>10590</td>\n",
       "      <td>3000</td>\n",
       "      <td>7590</td>\n",
       "      <td>2002</td>\n",
       "      <td>NaN</td>\n",
       "      <td>NaN</td>\n",
       "      <td>NaN</td>\n",
       "      <td>NaN</td>\n",
       "    </tr>\n",
       "    <tr>\n",
       "      <th>2</th>\n",
       "      <td>64e5b7af9cdc27394f4c7c57</td>\n",
       "      <td>850526</td>\n",
       "      <td>2002040682051</td>\n",
       "      <td>15540</td>\n",
       "      <td>20020429</td>\n",
       "      <td>3</td>\n",
       "      <td>10</td>\n",
       "      <td>M81</td>\n",
       "      <td>0</td>\n",
       "      <td>0</td>\n",
       "      <td>...</td>\n",
       "      <td>5.0</td>\n",
       "      <td>0.15</td>\n",
       "      <td>10590</td>\n",
       "      <td>3000</td>\n",
       "      <td>7590</td>\n",
       "      <td>2002</td>\n",
       "      <td>NaN</td>\n",
       "      <td>NaN</td>\n",
       "      <td>NaN</td>\n",
       "      <td>NaN</td>\n",
       "    </tr>\n",
       "    <tr>\n",
       "      <th>3</th>\n",
       "      <td>64e5b7af9cdc27394f4c7c58</td>\n",
       "      <td>334221</td>\n",
       "      <td>2002050374273</td>\n",
       "      <td>47663</td>\n",
       "      <td>20020527</td>\n",
       "      <td>3</td>\n",
       "      <td>14</td>\n",
       "      <td>L739</td>\n",
       "      <td>0</td>\n",
       "      <td>0</td>\n",
       "      <td>...</td>\n",
       "      <td>5.0</td>\n",
       "      <td>0.15</td>\n",
       "      <td>10590</td>\n",
       "      <td>3000</td>\n",
       "      <td>7590</td>\n",
       "      <td>2002</td>\n",
       "      <td>NaN</td>\n",
       "      <td>NaN</td>\n",
       "      <td>NaN</td>\n",
       "      <td>NaN</td>\n",
       "    </tr>\n",
       "    <tr>\n",
       "      <th>4</th>\n",
       "      <td>64e5b7af9cdc27394f4c7c59</td>\n",
       "      <td>1008348</td>\n",
       "      <td>2002090440633</td>\n",
       "      <td>74788</td>\n",
       "      <td>20020924</td>\n",
       "      <td>3</td>\n",
       "      <td>4</td>\n",
       "      <td>D48</td>\n",
       "      <td>NaN</td>\n",
       "      <td>0</td>\n",
       "      <td>...</td>\n",
       "      <td>5.0</td>\n",
       "      <td>0.15</td>\n",
       "      <td>10590</td>\n",
       "      <td>3000</td>\n",
       "      <td>7590</td>\n",
       "      <td>2002</td>\n",
       "      <td>NaN</td>\n",
       "      <td>NaN</td>\n",
       "      <td>NaN</td>\n",
       "      <td>NaN</td>\n",
       "    </tr>\n",
       "    <tr>\n",
       "      <th>...</th>\n",
       "      <td>...</td>\n",
       "      <td>...</td>\n",
       "      <td>...</td>\n",
       "      <td>...</td>\n",
       "      <td>...</td>\n",
       "      <td>...</td>\n",
       "      <td>...</td>\n",
       "      <td>...</td>\n",
       "      <td>...</td>\n",
       "      <td>...</td>\n",
       "      <td>...</td>\n",
       "      <td>...</td>\n",
       "      <td>...</td>\n",
       "      <td>...</td>\n",
       "      <td>...</td>\n",
       "      <td>...</td>\n",
       "      <td>...</td>\n",
       "      <td>...</td>\n",
       "      <td>...</td>\n",
       "      <td>...</td>\n",
       "      <td>...</td>\n",
       "    </tr>\n",
       "    <tr>\n",
       "      <th>137158</th>\n",
       "      <td>64e5b7b99cdc27394f4e941d</td>\n",
       "      <td>2078794</td>\n",
       "      <td>2015021769648</td>\n",
       "      <td>39694</td>\n",
       "      <td>20150217</td>\n",
       "      <td>2</td>\n",
       "      <td>11</td>\n",
       "      <td>J_</td>\n",
       "      <td>0</td>\n",
       "      <td>0</td>\n",
       "      <td>...</td>\n",
       "      <td>9.0</td>\n",
       "      <td>0.20</td>\n",
       "      <td>459240</td>\n",
       "      <td>107180</td>\n",
       "      <td>352060</td>\n",
       "      <td>2015</td>\n",
       "      <td>32.0</td>\n",
       "      <td>A099</td>\n",
       "      <td>NaN</td>\n",
       "      <td>NaN</td>\n",
       "    </tr>\n",
       "    <tr>\n",
       "      <th>137159</th>\n",
       "      <td>64e5b7b99cdc27394f4e941e</td>\n",
       "      <td>179035</td>\n",
       "      <td>2015031741483</td>\n",
       "      <td>85129</td>\n",
       "      <td>20150331</td>\n",
       "      <td>2</td>\n",
       "      <td>10</td>\n",
       "      <td>Z_</td>\n",
       "      <td>0</td>\n",
       "      <td>0</td>\n",
       "      <td>...</td>\n",
       "      <td>1.0</td>\n",
       "      <td>0.20</td>\n",
       "      <td>1296200</td>\n",
       "      <td>307940</td>\n",
       "      <td>988260</td>\n",
       "      <td>2015</td>\n",
       "      <td>32.0</td>\n",
       "      <td>O_</td>\n",
       "      <td>NaN</td>\n",
       "      <td>NaN</td>\n",
       "    </tr>\n",
       "    <tr>\n",
       "      <th>137160</th>\n",
       "      <td>64e5b7b99cdc27394f4e941f</td>\n",
       "      <td>2088649</td>\n",
       "      <td>2015072309822</td>\n",
       "      <td>128413</td>\n",
       "      <td>20150716</td>\n",
       "      <td>2</td>\n",
       "      <td>11</td>\n",
       "      <td>G039</td>\n",
       "      <td>0</td>\n",
       "      <td>0</td>\n",
       "      <td>...</td>\n",
       "      <td>9.0</td>\n",
       "      <td>0.25</td>\n",
       "      <td>945820</td>\n",
       "      <td>224940</td>\n",
       "      <td>720880</td>\n",
       "      <td>2015</td>\n",
       "      <td>32.0</td>\n",
       "      <td>J303</td>\n",
       "      <td>NaN</td>\n",
       "      <td>NaN</td>\n",
       "    </tr>\n",
       "    <tr>\n",
       "      <th>137161</th>\n",
       "      <td>64e5b7b99cdc27394f4e9420</td>\n",
       "      <td>857094</td>\n",
       "      <td>2015072016434</td>\n",
       "      <td>119190</td>\n",
       "      <td>20150712</td>\n",
       "      <td>10</td>\n",
       "      <td>0</td>\n",
       "      <td>F_</td>\n",
       "      <td>0</td>\n",
       "      <td>0</td>\n",
       "      <td>...</td>\n",
       "      <td>9.0</td>\n",
       "      <td>0.15</td>\n",
       "      <td>577940</td>\n",
       "      <td>0</td>\n",
       "      <td>577940</td>\n",
       "      <td>2015</td>\n",
       "      <td>32.0</td>\n",
       "      <td>F_</td>\n",
       "      <td>NaN</td>\n",
       "      <td>NaN</td>\n",
       "    </tr>\n",
       "    <tr>\n",
       "      <th>137162</th>\n",
       "      <td>64e5b7b99cdc27394f4e9421</td>\n",
       "      <td>286070</td>\n",
       "      <td>2015060100839</td>\n",
       "      <td>121839</td>\n",
       "      <td>20150603</td>\n",
       "      <td>2</td>\n",
       "      <td>9</td>\n",
       "      <td>G822</td>\n",
       "      <td>0</td>\n",
       "      <td>0</td>\n",
       "      <td>...</td>\n",
       "      <td>1.0</td>\n",
       "      <td>0.20</td>\n",
       "      <td>2004440</td>\n",
       "      <td>522320</td>\n",
       "      <td>1482120</td>\n",
       "      <td>2015</td>\n",
       "      <td>32.0</td>\n",
       "      <td>F_</td>\n",
       "      <td>NaN</td>\n",
       "      <td>20150603.0</td>\n",
       "    </tr>\n",
       "  </tbody>\n",
       "</table>\n",
       "<p>137163 rows × 23 columns</p>\n",
       "</div>"
      ],
      "text/plain": [
       "                             _id  RN_INDI         RN_KEY  RN_INST  \\\n",
       "0       64e5b7af9cdc27394f4c7c55   429577  2002070826167   101494   \n",
       "1       64e5b7af9cdc27394f4c7c56   362517  2002070388352    82780   \n",
       "2       64e5b7af9cdc27394f4c7c57   850526  2002040682051    15540   \n",
       "3       64e5b7af9cdc27394f4c7c58   334221  2002050374273    47663   \n",
       "4       64e5b7af9cdc27394f4c7c59  1008348  2002090440633    74788   \n",
       "...                          ...      ...            ...      ...   \n",
       "137158  64e5b7b99cdc27394f4e941d  2078794  2015021769648    39694   \n",
       "137159  64e5b7b99cdc27394f4e941e   179035  2015031741483    85129   \n",
       "137160  64e5b7b99cdc27394f4e941f  2088649  2015072309822   128413   \n",
       "137161  64e5b7b99cdc27394f4e9420   857094  2015072016434   119190   \n",
       "137162  64e5b7b99cdc27394f4e9421   286070  2015060100839   121839   \n",
       "\n",
       "        MDCARE_STRT_DT  FORM_CD  MCARE_SUBJ_CD SICK_SYM1 OFIJ_TYPE  OPRTN_YN  \\\n",
       "0             20020729        3             15       B07         0         0   \n",
       "1             20020729        3             14      B354       NaN         0   \n",
       "2             20020429        3             10       M81         0         0   \n",
       "3             20020527        3             14      L739         0         0   \n",
       "4             20020924        3              4       D48       NaN         0   \n",
       "...                ...      ...            ...       ...       ...       ...   \n",
       "137158        20150217        2             11        J_         0         0   \n",
       "137159        20150331        2             10        Z_         0         0   \n",
       "137160        20150716        2             11      G039         0         0   \n",
       "137161        20150712       10              0        F_         0         0   \n",
       "137162        20150603        2              9      G822         0         0   \n",
       "\n",
       "        ...  MCARE_RSLT_TYPE  EDC_ADD_RT  ED_RC_TOT_AMT  EDC_SBA  \\\n",
       "0       ...              5.0        0.15          10590     3000   \n",
       "1       ...              5.0        0.15          10590     3000   \n",
       "2       ...              5.0        0.15          10590     3000   \n",
       "3       ...              5.0        0.15          10590     3000   \n",
       "4       ...              5.0        0.15          10590     3000   \n",
       "...     ...              ...         ...            ...      ...   \n",
       "137158  ...              9.0        0.20         459240   107180   \n",
       "137159  ...              1.0        0.20        1296200   307940   \n",
       "137160  ...              9.0        0.25         945820   224940   \n",
       "137161  ...              9.0        0.15         577940        0   \n",
       "137162  ...              1.0        0.20        2004440   522320   \n",
       "\n",
       "        EDC_INSUR_BRDN_AMT  STD_YYYY  HSPTZ_PATH_TYPE  SICK_SYM2  \\\n",
       "0                     7590      2002              NaN        NaN   \n",
       "1                     7590      2002              NaN        NaN   \n",
       "2                     7590      2002              NaN        NaN   \n",
       "3                     7590      2002              NaN        NaN   \n",
       "4                     7590      2002              NaN        NaN   \n",
       "...                    ...       ...              ...        ...   \n",
       "137158              352060      2015             32.0       A099   \n",
       "137159              988260      2015             32.0         O_   \n",
       "137160              720880      2015             32.0       J303   \n",
       "137161              577940      2015             32.0         F_   \n",
       "137162             1482120      2015             32.0         F_   \n",
       "\n",
       "        SPCF_SYM_TYPE  FST_HSPTZ_DT  \n",
       "0                 NaN           NaN  \n",
       "1                 NaN           NaN  \n",
       "2                 NaN           NaN  \n",
       "3                 NaN           NaN  \n",
       "4                 NaN           NaN  \n",
       "...               ...           ...  \n",
       "137158            NaN           NaN  \n",
       "137159            NaN           NaN  \n",
       "137160            NaN           NaN  \n",
       "137161            NaN           NaN  \n",
       "137162            NaN    20150603.0  \n",
       "\n",
       "[137163 rows x 23 columns]"
      ]
     },
     "execution_count": 9,
     "metadata": {},
     "output_type": "execute_result"
    }
   ],
   "source": [
    "pd.DataFrame(list)"
   ]
  },
  {
   "cell_type": "code",
   "execution_count": 10,
   "id": "f130b0eb-9554-4045-a7a2-a1e5a4d1adee",
   "metadata": {
    "tags": []
   },
   "outputs": [],
   "source": [
    "df_M20 = pd.DataFrame(list)"
   ]
  },
  {
   "cell_type": "code",
   "execution_count": 11,
   "id": "db79b795-6801-4d00-a778-59768e98c5ad",
   "metadata": {
    "tags": []
   },
   "outputs": [
    {
     "data": {
      "text/plain": [
       "Index(['_id', 'RN_INDI', 'RN_KEY', 'RN_INST', 'MDCARE_STRT_DT', 'FORM_CD',\n",
       "       'MCARE_SUBJ_CD', 'SICK_SYM1', 'OFIJ_TYPE', 'OPRTN_YN', 'MDCARE_DD_CNT',\n",
       "       'VSHSP_DD_CNT', 'TOT_PRSC_DD_CNT', 'MCARE_RSLT_TYPE', 'EDC_ADD_RT',\n",
       "       'ED_RC_TOT_AMT', 'EDC_SBA', 'EDC_INSUR_BRDN_AMT', 'STD_YYYY',\n",
       "       'HSPTZ_PATH_TYPE', 'SICK_SYM2', 'SPCF_SYM_TYPE', 'FST_HSPTZ_DT'],\n",
       "      dtype='object')"
      ]
     },
     "execution_count": 11,
     "metadata": {},
     "output_type": "execute_result"
    }
   ],
   "source": [
    "df_M20.columns"
   ]
  },
  {
   "cell_type": "code",
   "execution_count": 13,
   "id": "62098679-79ad-48ab-9c92-bf40f51f47cb",
   "metadata": {
    "tags": []
   },
   "outputs": [],
   "source": [
    "df_M20_extract = df_M20[['EDC_ADD_RT','EDC_SBA','EDC_INSUR_BRDN_AMT']]"
   ]
  },
  {
   "cell_type": "code",
   "execution_count": 14,
   "id": "a908182c-522a-4362-97a1-6ef70ebf9f00",
   "metadata": {
    "tags": []
   },
   "outputs": [
    {
     "name": "stdout",
     "output_type": "stream",
     "text": [
      "<class 'pandas.core.frame.DataFrame'>\n",
      "RangeIndex: 137163 entries, 0 to 137162\n",
      "Data columns (total 3 columns):\n",
      " #   Column              Non-Null Count   Dtype  \n",
      "---  ------              --------------   -----  \n",
      " 0   EDC_ADD_RT          137163 non-null  float64\n",
      " 1   EDC_SBA             137163 non-null  int64  \n",
      " 2   EDC_INSUR_BRDN_AMT  137163 non-null  int64  \n",
      "dtypes: float64(1), int64(2)\n",
      "memory usage: 3.1 MB\n"
     ]
    }
   ],
   "source": [
    "df_M20_extract.info()"
   ]
  },
  {
   "cell_type": "code",
   "execution_count": 15,
   "id": "891644a7-a0e9-4a2a-91f1-180814a5b023",
   "metadata": {
    "tags": []
   },
   "outputs": [
    {
     "data": {
      "text/plain": [
       "EDC_ADD_RT            0\n",
       "EDC_SBA               0\n",
       "EDC_INSUR_BRDN_AMT    0\n",
       "dtype: int64"
      ]
     },
     "execution_count": 15,
     "metadata": {},
     "output_type": "execute_result"
    }
   ],
   "source": [
    "df_M20_extract.isnull().sum()"
   ]
  },
  {
   "cell_type": "code",
   "execution_count": 16,
   "id": "9d72595b-7a9c-48fe-88c9-cb331d07d043",
   "metadata": {
    "tags": []
   },
   "outputs": [],
   "source": [
    "df_M20_extract.to_csv('./df_M20_extract.csv')"
   ]
  },
  {
   "cell_type": "code",
   "execution_count": 6,
   "id": "f5b2cd04-c2d5-46c9-b9e5-f0c27ee9c3a8",
   "metadata": {
    "tags": []
   },
   "outputs": [],
   "source": [
    "df_M20_quest = pd.read_csv('../../datasets/df_M20_extract.csv')"
   ]
  },
  {
   "cell_type": "code",
   "execution_count": 7,
   "id": "7e4650d0-4785-454c-b882-f4488e4259bd",
   "metadata": {
    "tags": []
   },
   "outputs": [
    {
     "name": "stdout",
     "output_type": "stream",
     "text": [
      "<class 'pandas.core.frame.DataFrame'>\n",
      "RangeIndex: 137163 entries, 0 to 137162\n",
      "Data columns (total 4 columns):\n",
      " #   Column              Non-Null Count   Dtype  \n",
      "---  ------              --------------   -----  \n",
      " 0   Unnamed: 0          137163 non-null  int64  \n",
      " 1   EDC_ADD_RT          137163 non-null  float64\n",
      " 2   EDC_SBA             137163 non-null  int64  \n",
      " 3   EDC_INSUR_BRDN_AMT  137163 non-null  int64  \n",
      "dtypes: float64(1), int64(3)\n",
      "memory usage: 4.2 MB\n"
     ]
    }
   ],
   "source": [
    "df_M20_quest.info()"
   ]
  },
  {
   "cell_type": "markdown",
   "id": "fcced1c2-306a-42a4-81bd-787d4a33f7e4",
   "metadata": {},
   "source": [
    "##### Structured data\n",
    "- 목표변수 : Y, **Target**\n",
    "- 설명변수 : X, **Label**"
   ]
  },
  {
   "cell_type": "code",
   "execution_count": 8,
   "id": "066c7719-60cd-46de-8bdf-12864e3f0a47",
   "metadata": {
    "tags": []
   },
   "outputs": [
    {
     "data": {
      "text/plain": [
       "Index(['Unnamed: 0', 'EDC_ADD_RT', 'EDC_SBA', 'EDC_INSUR_BRDN_AMT'], dtype='object')"
      ]
     },
     "execution_count": 8,
     "metadata": {},
     "output_type": "execute_result"
    }
   ],
   "source": [
    "df_M20_quest.columns"
   ]
  },
  {
   "cell_type": "code",
   "execution_count": 9,
   "id": "f9b67a66-e208-42c6-a426-4d2ec31d4670",
   "metadata": {
    "tags": []
   },
   "outputs": [
    {
     "data": {
      "text/plain": [
       "((137163,), (137163, 2))"
      ]
     },
     "execution_count": 9,
     "metadata": {},
     "output_type": "execute_result"
    }
   ],
   "source": [
    "target = df_M20_quest['EDC_INSUR_BRDN_AMT']\n",
    "labels = df_M20_quest[['EDC_ADD_RT', 'EDC_SBA']]\n",
    "target.shape, labels.shape"
   ]
  },
  {
   "cell_type": "markdown",
   "id": "d2c4f6cf-1f8a-4f44-8236-1e9d316a8fd4",
   "metadata": {},
   "source": [
    "#### 모델(알고리즘) 학습"
   ]
  },
  {
   "cell_type": "code",
   "execution_count": 10,
   "id": "0f47782f-57f5-4f00-aa32-3a61cf15f480",
   "metadata": {
    "tags": []
   },
   "outputs": [],
   "source": [
    "from sklearn.linear_model import LinearRegression"
   ]
  },
  {
   "cell_type": "code",
   "execution_count": 11,
   "id": "6791a2e1-6654-45e7-9940-5f533eb86b2e",
   "metadata": {
    "tags": []
   },
   "outputs": [
    {
     "data": {
      "text/html": [
       "<style>#sk-container-id-1 {color: black;background-color: white;}#sk-container-id-1 pre{padding: 0;}#sk-container-id-1 div.sk-toggleable {background-color: white;}#sk-container-id-1 label.sk-toggleable__label {cursor: pointer;display: block;width: 100%;margin-bottom: 0;padding: 0.3em;box-sizing: border-box;text-align: center;}#sk-container-id-1 label.sk-toggleable__label-arrow:before {content: \"▸\";float: left;margin-right: 0.25em;color: #696969;}#sk-container-id-1 label.sk-toggleable__label-arrow:hover:before {color: black;}#sk-container-id-1 div.sk-estimator:hover label.sk-toggleable__label-arrow:before {color: black;}#sk-container-id-1 div.sk-toggleable__content {max-height: 0;max-width: 0;overflow: hidden;text-align: left;background-color: #f0f8ff;}#sk-container-id-1 div.sk-toggleable__content pre {margin: 0.2em;color: black;border-radius: 0.25em;background-color: #f0f8ff;}#sk-container-id-1 input.sk-toggleable__control:checked~div.sk-toggleable__content {max-height: 200px;max-width: 100%;overflow: auto;}#sk-container-id-1 input.sk-toggleable__control:checked~label.sk-toggleable__label-arrow:before {content: \"▾\";}#sk-container-id-1 div.sk-estimator input.sk-toggleable__control:checked~label.sk-toggleable__label {background-color: #d4ebff;}#sk-container-id-1 div.sk-label input.sk-toggleable__control:checked~label.sk-toggleable__label {background-color: #d4ebff;}#sk-container-id-1 input.sk-hidden--visually {border: 0;clip: rect(1px 1px 1px 1px);clip: rect(1px, 1px, 1px, 1px);height: 1px;margin: -1px;overflow: hidden;padding: 0;position: absolute;width: 1px;}#sk-container-id-1 div.sk-estimator {font-family: monospace;background-color: #f0f8ff;border: 1px dotted black;border-radius: 0.25em;box-sizing: border-box;margin-bottom: 0.5em;}#sk-container-id-1 div.sk-estimator:hover {background-color: #d4ebff;}#sk-container-id-1 div.sk-parallel-item::after {content: \"\";width: 100%;border-bottom: 1px solid gray;flex-grow: 1;}#sk-container-id-1 div.sk-label:hover label.sk-toggleable__label {background-color: #d4ebff;}#sk-container-id-1 div.sk-serial::before {content: \"\";position: absolute;border-left: 1px solid gray;box-sizing: border-box;top: 0;bottom: 0;left: 50%;z-index: 0;}#sk-container-id-1 div.sk-serial {display: flex;flex-direction: column;align-items: center;background-color: white;padding-right: 0.2em;padding-left: 0.2em;position: relative;}#sk-container-id-1 div.sk-item {position: relative;z-index: 1;}#sk-container-id-1 div.sk-parallel {display: flex;align-items: stretch;justify-content: center;background-color: white;position: relative;}#sk-container-id-1 div.sk-item::before, #sk-container-id-1 div.sk-parallel-item::before {content: \"\";position: absolute;border-left: 1px solid gray;box-sizing: border-box;top: 0;bottom: 0;left: 50%;z-index: -1;}#sk-container-id-1 div.sk-parallel-item {display: flex;flex-direction: column;z-index: 1;position: relative;background-color: white;}#sk-container-id-1 div.sk-parallel-item:first-child::after {align-self: flex-end;width: 50%;}#sk-container-id-1 div.sk-parallel-item:last-child::after {align-self: flex-start;width: 50%;}#sk-container-id-1 div.sk-parallel-item:only-child::after {width: 0;}#sk-container-id-1 div.sk-dashed-wrapped {border: 1px dashed gray;margin: 0 0.4em 0.5em 0.4em;box-sizing: border-box;padding-bottom: 0.4em;background-color: white;}#sk-container-id-1 div.sk-label label {font-family: monospace;font-weight: bold;display: inline-block;line-height: 1.2em;}#sk-container-id-1 div.sk-label-container {text-align: center;}#sk-container-id-1 div.sk-container {/* jupyter's `normalize.less` sets `[hidden] { display: none; }` but bootstrap.min.css set `[hidden] { display: none !important; }` so we also need the `!important` here to be able to override the default hidden behavior on the sphinx rendered scikit-learn.org. See: https://github.com/scikit-learn/scikit-learn/issues/21755 */display: inline-block !important;position: relative;}#sk-container-id-1 div.sk-text-repr-fallback {display: none;}</style><div id=\"sk-container-id-1\" class=\"sk-top-container\"><div class=\"sk-text-repr-fallback\"><pre>LinearRegression()</pre><b>In a Jupyter environment, please rerun this cell to show the HTML representation or trust the notebook. <br />On GitHub, the HTML representation is unable to render, please try loading this page with nbviewer.org.</b></div><div class=\"sk-container\" hidden><div class=\"sk-item\"><div class=\"sk-estimator sk-toggleable\"><input class=\"sk-toggleable__control sk-hidden--visually\" id=\"sk-estimator-id-1\" type=\"checkbox\" checked><label for=\"sk-estimator-id-1\" class=\"sk-toggleable__label sk-toggleable__label-arrow\">LinearRegression</label><div class=\"sk-toggleable__content\"><pre>LinearRegression()</pre></div></div></div></div></div>"
      ],
      "text/plain": [
       "LinearRegression()"
      ]
     },
     "execution_count": 11,
     "metadata": {},
     "output_type": "execute_result"
    }
   ],
   "source": [
    "model = LinearRegression()\n",
    "model.fit(labels, target)"
   ]
  },
  {
   "cell_type": "code",
   "execution_count": 12,
   "id": "47785c80-1dbe-46f5-b660-85962f0013d7",
   "metadata": {
    "tags": []
   },
   "outputs": [
    {
     "data": {
      "text/plain": [
       "137163"
      ]
     },
     "execution_count": 12,
     "metadata": {},
     "output_type": "execute_result"
    }
   ],
   "source": [
    "#평가\n",
    "target_predict = model.predict(labels)\n",
    "len(target_predict)"
   ]
  },
  {
   "cell_type": "code",
   "execution_count": 13,
   "id": "4755a8aa-0ad0-4b63-8ed2-bd53f5161578",
   "metadata": {
    "tags": []
   },
   "outputs": [
    {
     "data": {
      "text/plain": [
       "0.5702460377631942"
      ]
     },
     "execution_count": 13,
     "metadata": {},
     "output_type": "execute_result"
    }
   ],
   "source": [
    "from sklearn.metrics import r2_score\n",
    "r2_score(target, target_predict)"
   ]
  },
  {
   "cell_type": "markdown",
   "id": "9ad615b6-9b2e-410f-8f53-00c9fe5683af",
   "metadata": {},
   "source": [
    "#### 미래예측"
   ]
  },
  {
   "cell_type": "code",
   "execution_count": 14,
   "id": "d0b20c08-b1f6-4db3-8995-71806184f4dd",
   "metadata": {
    "tags": []
   },
   "outputs": [
    {
     "data": {
      "text/html": [
       "<div>\n",
       "<style scoped>\n",
       "    .dataframe tbody tr th:only-of-type {\n",
       "        vertical-align: middle;\n",
       "    }\n",
       "\n",
       "    .dataframe tbody tr th {\n",
       "        vertical-align: top;\n",
       "    }\n",
       "\n",
       "    .dataframe thead th {\n",
       "        text-align: right;\n",
       "    }\n",
       "</style>\n",
       "<table border=\"1\" class=\"dataframe\">\n",
       "  <thead>\n",
       "    <tr style=\"text-align: right;\">\n",
       "      <th></th>\n",
       "      <th>Unnamed: 0</th>\n",
       "      <th>EDC_ADD_RT</th>\n",
       "      <th>EDC_SBA</th>\n",
       "      <th>EDC_INSUR_BRDN_AMT</th>\n",
       "    </tr>\n",
       "  </thead>\n",
       "  <tbody>\n",
       "    <tr>\n",
       "      <th>1000</th>\n",
       "      <td>1000</td>\n",
       "      <td>0.15</td>\n",
       "      <td>6000</td>\n",
       "      <td>9150</td>\n",
       "    </tr>\n",
       "    <tr>\n",
       "      <th>1001</th>\n",
       "      <td>1001</td>\n",
       "      <td>0.15</td>\n",
       "      <td>3000</td>\n",
       "      <td>11940</td>\n",
       "    </tr>\n",
       "    <tr>\n",
       "      <th>1002</th>\n",
       "      <td>1002</td>\n",
       "      <td>0.15</td>\n",
       "      <td>4700</td>\n",
       "      <td>10980</td>\n",
       "    </tr>\n",
       "    <tr>\n",
       "      <th>1003</th>\n",
       "      <td>1003</td>\n",
       "      <td>0.15</td>\n",
       "      <td>6000</td>\n",
       "      <td>16020</td>\n",
       "    </tr>\n",
       "    <tr>\n",
       "      <th>1004</th>\n",
       "      <td>1004</td>\n",
       "      <td>0.15</td>\n",
       "      <td>3000</td>\n",
       "      <td>6970</td>\n",
       "    </tr>\n",
       "    <tr>\n",
       "      <th>...</th>\n",
       "      <td>...</td>\n",
       "      <td>...</td>\n",
       "      <td>...</td>\n",
       "      <td>...</td>\n",
       "    </tr>\n",
       "    <tr>\n",
       "      <th>99995</th>\n",
       "      <td>99995</td>\n",
       "      <td>0.15</td>\n",
       "      <td>2800</td>\n",
       "      <td>6630</td>\n",
       "    </tr>\n",
       "    <tr>\n",
       "      <th>99996</th>\n",
       "      <td>99996</td>\n",
       "      <td>0.15</td>\n",
       "      <td>2800</td>\n",
       "      <td>6630</td>\n",
       "    </tr>\n",
       "    <tr>\n",
       "      <th>99997</th>\n",
       "      <td>99997</td>\n",
       "      <td>0.15</td>\n",
       "      <td>2800</td>\n",
       "      <td>6630</td>\n",
       "    </tr>\n",
       "    <tr>\n",
       "      <th>99998</th>\n",
       "      <td>99998</td>\n",
       "      <td>0.15</td>\n",
       "      <td>2800</td>\n",
       "      <td>6630</td>\n",
       "    </tr>\n",
       "    <tr>\n",
       "      <th>99999</th>\n",
       "      <td>99999</td>\n",
       "      <td>0.15</td>\n",
       "      <td>2800</td>\n",
       "      <td>6630</td>\n",
       "    </tr>\n",
       "  </tbody>\n",
       "</table>\n",
       "<p>99000 rows × 4 columns</p>\n",
       "</div>"
      ],
      "text/plain": [
       "       Unnamed: 0  EDC_ADD_RT  EDC_SBA  EDC_INSUR_BRDN_AMT\n",
       "1000         1000        0.15     6000                9150\n",
       "1001         1001        0.15     3000               11940\n",
       "1002         1002        0.15     4700               10980\n",
       "1003         1003        0.15     6000               16020\n",
       "1004         1004        0.15     3000                6970\n",
       "...           ...         ...      ...                 ...\n",
       "99995       99995        0.15     2800                6630\n",
       "99996       99996        0.15     2800                6630\n",
       "99997       99997        0.15     2800                6630\n",
       "99998       99998        0.15     2800                6630\n",
       "99999       99999        0.15     2800                6630\n",
       "\n",
       "[99000 rows x 4 columns]"
      ]
     },
     "execution_count": 14,
     "metadata": {},
     "output_type": "execute_result"
    }
   ],
   "source": [
    "df_M20_quest[1000:100000]"
   ]
  },
  {
   "cell_type": "code",
   "execution_count": 21,
   "id": "3e560a3a-e720-4b56-af17-4fafdd85677a",
   "metadata": {
    "tags": []
   },
   "outputs": [],
   "source": [
    "temp_label = [[0.15,6000]]"
   ]
  },
  {
   "cell_type": "code",
   "execution_count": 22,
   "id": "fe925523-d101-418a-8a4c-08faf6288582",
   "metadata": {
    "tags": []
   },
   "outputs": [
    {
     "name": "stderr",
     "output_type": "stream",
     "text": [
      "C:\\Users\\05-27\\anaconda3\\Lib\\site-packages\\sklearn\\base.py:439: UserWarning: X does not have valid feature names, but LinearRegression was fitted with feature names\n",
      "  warnings.warn(\n"
     ]
    },
    {
     "data": {
      "text/plain": [
       "array([20308.9180546])"
      ]
     },
     "execution_count": 22,
     "metadata": {},
     "output_type": "execute_result"
    }
   ],
   "source": [
    "model.predict(temp_label)"
   ]
  },
  {
   "cell_type": "code",
   "execution_count": null,
   "id": "ce9bd6fb-1022-46e9-8c1e-7c46f2a8b967",
   "metadata": {},
   "outputs": [],
   "source": []
  }
 ],
 "metadata": {
  "kernelspec": {
   "display_name": "Python 3 (ipykernel)",
   "language": "python",
   "name": "python3"
  },
  "language_info": {
   "codemirror_mode": {
    "name": "ipython",
    "version": 3
   },
   "file_extension": ".py",
   "mimetype": "text/x-python",
   "name": "python",
   "nbconvert_exporter": "python",
   "pygments_lexer": "ipython3",
   "version": "3.11.3"
  }
 },
 "nbformat": 4,
 "nbformat_minor": 5
}
