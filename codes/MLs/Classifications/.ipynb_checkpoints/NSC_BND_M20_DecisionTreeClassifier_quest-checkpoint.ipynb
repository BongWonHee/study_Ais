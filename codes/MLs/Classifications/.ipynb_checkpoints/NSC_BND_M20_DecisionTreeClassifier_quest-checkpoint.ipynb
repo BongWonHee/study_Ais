{
 "cells": [
  {
   "cell_type": "code",
   "execution_count": null,
   "id": "d819f49f-032c-4095-a061-3f6efcd3fdfe",
   "metadata": {},
   "outputs": [],
   "source": []
  }
 ],
 "metadata": {
  "kernelspec": {
   "display_name": "Python 3 (ipykernel)",
   "language": "python",
   "name": "python3"
  },
  "language_info": {
   "codemirror_mode": {
    "name": "ipython",
    "version": 3
   },
   "file_extension": ".py",
   "mimetype": "text/x-python",
   "name": "python",
   "nbconvert_exporter": "python",
   "pygments_lexer": "ipython3",
   "version": "3.11.3"
  }
 },
 "nbformat": 4,
 "nbformat_minor": 5
}
