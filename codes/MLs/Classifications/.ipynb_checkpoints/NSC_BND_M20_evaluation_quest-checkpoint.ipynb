{
 "cells": [
  {
   "cell_type": "code",
   "execution_count": 105,
   "id": "d819f49f-032c-4095-a061-3f6efcd3fdfe",
   "metadata": {
    "tags": []
   },
   "outputs": [],
   "source": [
    "import pymongo as mg"
   ]
  },
  {
   "cell_type": "code",
   "execution_count": 106,
   "id": "9e1fd9b7-0c28-470f-b7aa-4cdec52fb4c7",
   "metadata": {
    "tags": []
   },
   "outputs": [],
   "source": [
    "client = mg.MongoClient(host='mongodb://localhost:27017/')"
   ]
  },
  {
   "cell_type": "code",
   "execution_count": 107,
   "id": "f9657cc5-b75b-4b6e-ad67-7261affbed87",
   "metadata": {
    "tags": []
   },
   "outputs": [
    {
     "data": {
      "text/plain": [
       "Database(MongoClient(host=['localhost:27017'], document_class=dict, tz_aware=False, connect=True), 'db_NHIS')"
      ]
     },
     "execution_count": 107,
     "metadata": {},
     "output_type": "execute_result"
    }
   ],
   "source": [
    "database=client['db_NHIS']\n",
    "database"
   ]
  },
  {
   "cell_type": "code",
   "execution_count": 108,
   "id": "87e0b90d-a46e-4a83-b29b-956418d17951",
   "metadata": {
    "tags": []
   },
   "outputs": [],
   "source": [
    "collection = database['Join_NSC2_BND_M20']"
   ]
  },
  {
   "cell_type": "code",
   "execution_count": 109,
   "id": "e2dbd8ef-2751-4a69-807f-c8b264eed399",
   "metadata": {
    "tags": []
   },
   "outputs": [],
   "source": [
    "cursor = collection.find({})"
   ]
  },
  {
   "cell_type": "code",
   "execution_count": 110,
   "id": "5e07e9f6-4cb6-4532-988a-c488035bcdab",
   "metadata": {
    "tags": []
   },
   "outputs": [
    {
     "ename": "TypeError",
     "evalue": "'list' object is not callable",
     "output_type": "error",
     "traceback": [
      "\u001b[1;31m---------------------------------------------------------------------------\u001b[0m",
      "\u001b[1;31mTypeError\u001b[0m                                 Traceback (most recent call last)",
      "Cell \u001b[1;32mIn[110], line 1\u001b[0m\n\u001b[1;32m----> 1\u001b[0m \u001b[38;5;28mlist\u001b[39m \u001b[38;5;241m=\u001b[39m \u001b[38;5;28mlist\u001b[39m(cursor)\n",
      "\u001b[1;31mTypeError\u001b[0m: 'list' object is not callable"
     ]
    }
   ],
   "source": [
    "list = list(cursor)"
   ]
  },
  {
   "cell_type": "code",
   "execution_count": 111,
   "id": "d55b5686-bb8b-41d8-bcb3-ec8c5e372dbf",
   "metadata": {
    "tags": []
   },
   "outputs": [],
   "source": [
    "import pandas as pd"
   ]
  },
  {
   "cell_type": "code",
   "execution_count": 112,
   "id": "fddb76cf-1a0e-4291-bd4b-192a7caca480",
   "metadata": {
    "tags": []
   },
   "outputs": [
    {
     "data": {
      "text/html": [
       "<div>\n",
       "<style scoped>\n",
       "    .dataframe tbody tr th:only-of-type {\n",
       "        vertical-align: middle;\n",
       "    }\n",
       "\n",
       "    .dataframe tbody tr th {\n",
       "        vertical-align: top;\n",
       "    }\n",
       "\n",
       "    .dataframe thead th {\n",
       "        text-align: right;\n",
       "    }\n",
       "</style>\n",
       "<table border=\"1\" class=\"dataframe\">\n",
       "  <thead>\n",
       "    <tr style=\"text-align: right;\">\n",
       "      <th></th>\n",
       "      <th>_id</th>\n",
       "      <th>RN_INDI</th>\n",
       "      <th>BTH_YYYY</th>\n",
       "      <th>DTH_YYYYMM</th>\n",
       "      <th>COD1</th>\n",
       "      <th>COD2</th>\n",
       "      <th>RN_KEY</th>\n",
       "      <th>RN_INST</th>\n",
       "      <th>MDCARE_STRT_DT</th>\n",
       "      <th>FORM_CD</th>\n",
       "      <th>...</th>\n",
       "      <th>OPRTN_YN</th>\n",
       "      <th>MDCARE_DD_CNT</th>\n",
       "      <th>VSHSP_DD_CNT</th>\n",
       "      <th>TOT_PRSC_DD_CNT</th>\n",
       "      <th>MCARE_RSLT_TYPE</th>\n",
       "      <th>EDC_ADD_RT</th>\n",
       "      <th>ED_RC_TOT_AMT</th>\n",
       "      <th>EDC_SBA</th>\n",
       "      <th>EDC_INSUR_BRDN_AMT</th>\n",
       "      <th>STD_YYYY</th>\n",
       "    </tr>\n",
       "  </thead>\n",
       "  <tbody>\n",
       "    <tr>\n",
       "      <th>0</th>\n",
       "      <td>64e6bd24960e3ecc434e21b1</td>\n",
       "      <td>294364</td>\n",
       "      <td>1921LE</td>\n",
       "      <td>200707.0</td>\n",
       "      <td>T08-T14</td>\n",
       "      <td>W00-W19</td>\n",
       "      <td>2002080298703</td>\n",
       "      <td>26452</td>\n",
       "      <td>20020830</td>\n",
       "      <td>3</td>\n",
       "      <td>...</td>\n",
       "      <td>0</td>\n",
       "      <td>1</td>\n",
       "      <td>1</td>\n",
       "      <td>3</td>\n",
       "      <td>5.0</td>\n",
       "      <td>0.15</td>\n",
       "      <td>10590</td>\n",
       "      <td>3000</td>\n",
       "      <td>7590</td>\n",
       "      <td>2002</td>\n",
       "    </tr>\n",
       "    <tr>\n",
       "      <th>1</th>\n",
       "      <td>64e6bd24960e3ecc434e21b2</td>\n",
       "      <td>294364</td>\n",
       "      <td>1921LE</td>\n",
       "      <td>200707.0</td>\n",
       "      <td>T08-T14</td>\n",
       "      <td>W00-W19</td>\n",
       "      <td>2002090466395</td>\n",
       "      <td>63715</td>\n",
       "      <td>20020910</td>\n",
       "      <td>3</td>\n",
       "      <td>...</td>\n",
       "      <td>0</td>\n",
       "      <td>1</td>\n",
       "      <td>1</td>\n",
       "      <td>2</td>\n",
       "      <td>5.0</td>\n",
       "      <td>0.15</td>\n",
       "      <td>16520</td>\n",
       "      <td>4950</td>\n",
       "      <td>11570</td>\n",
       "      <td>2002</td>\n",
       "    </tr>\n",
       "    <tr>\n",
       "      <th>2</th>\n",
       "      <td>64e6bd24960e3ecc434e21b3</td>\n",
       "      <td>294364</td>\n",
       "      <td>1921LE</td>\n",
       "      <td>200707.0</td>\n",
       "      <td>T08-T14</td>\n",
       "      <td>W00-W19</td>\n",
       "      <td>2002091053122</td>\n",
       "      <td>63715</td>\n",
       "      <td>20020909</td>\n",
       "      <td>3</td>\n",
       "      <td>...</td>\n",
       "      <td>0</td>\n",
       "      <td>3</td>\n",
       "      <td>3</td>\n",
       "      <td>3</td>\n",
       "      <td>5.0</td>\n",
       "      <td>0.15</td>\n",
       "      <td>27620</td>\n",
       "      <td>9000</td>\n",
       "      <td>18620</td>\n",
       "      <td>2002</td>\n",
       "    </tr>\n",
       "    <tr>\n",
       "      <th>3</th>\n",
       "      <td>64e6bd24960e3ecc434e21b4</td>\n",
       "      <td>294364</td>\n",
       "      <td>1921LE</td>\n",
       "      <td>200707.0</td>\n",
       "      <td>T08-T14</td>\n",
       "      <td>W00-W19</td>\n",
       "      <td>2002020488631</td>\n",
       "      <td>23506</td>\n",
       "      <td>20020208</td>\n",
       "      <td>3</td>\n",
       "      <td>...</td>\n",
       "      <td>0</td>\n",
       "      <td>1</td>\n",
       "      <td>1</td>\n",
       "      <td>3</td>\n",
       "      <td>5.0</td>\n",
       "      <td>0.15</td>\n",
       "      <td>12920</td>\n",
       "      <td>3000</td>\n",
       "      <td>9920</td>\n",
       "      <td>2002</td>\n",
       "    </tr>\n",
       "    <tr>\n",
       "      <th>4</th>\n",
       "      <td>64e6bd24960e3ecc434e21b5</td>\n",
       "      <td>294364</td>\n",
       "      <td>1921LE</td>\n",
       "      <td>200707.0</td>\n",
       "      <td>T08-T14</td>\n",
       "      <td>W00-W19</td>\n",
       "      <td>2002060822342</td>\n",
       "      <td>23506</td>\n",
       "      <td>20020628</td>\n",
       "      <td>3</td>\n",
       "      <td>...</td>\n",
       "      <td>0</td>\n",
       "      <td>1</td>\n",
       "      <td>1</td>\n",
       "      <td>0</td>\n",
       "      <td>5.0</td>\n",
       "      <td>0.15</td>\n",
       "      <td>14230</td>\n",
       "      <td>3000</td>\n",
       "      <td>11230</td>\n",
       "      <td>2002</td>\n",
       "    </tr>\n",
       "    <tr>\n",
       "      <th>...</th>\n",
       "      <td>...</td>\n",
       "      <td>...</td>\n",
       "      <td>...</td>\n",
       "      <td>...</td>\n",
       "      <td>...</td>\n",
       "      <td>...</td>\n",
       "      <td>...</td>\n",
       "      <td>...</td>\n",
       "      <td>...</td>\n",
       "      <td>...</td>\n",
       "      <td>...</td>\n",
       "      <td>...</td>\n",
       "      <td>...</td>\n",
       "      <td>...</td>\n",
       "      <td>...</td>\n",
       "      <td>...</td>\n",
       "      <td>...</td>\n",
       "      <td>...</td>\n",
       "      <td>...</td>\n",
       "      <td>...</td>\n",
       "      <td>...</td>\n",
       "    </tr>\n",
       "    <tr>\n",
       "      <th>137158</th>\n",
       "      <td>64e6bd45960e3ecc4350399a</td>\n",
       "      <td>3000758</td>\n",
       "      <td>2015</td>\n",
       "      <td>NaN</td>\n",
       "      <td>NaN</td>\n",
       "      <td>NaN</td>\n",
       "      <td>2015050998151</td>\n",
       "      <td>79884</td>\n",
       "      <td>20150506</td>\n",
       "      <td>3</td>\n",
       "      <td>...</td>\n",
       "      <td>0</td>\n",
       "      <td>2</td>\n",
       "      <td>1</td>\n",
       "      <td>0</td>\n",
       "      <td>1.0</td>\n",
       "      <td>0.15</td>\n",
       "      <td>11280</td>\n",
       "      <td>2300</td>\n",
       "      <td>8980</td>\n",
       "      <td>2015</td>\n",
       "    </tr>\n",
       "    <tr>\n",
       "      <th>137159</th>\n",
       "      <td>64e6bd45960e3ecc4350399b</td>\n",
       "      <td>3000758</td>\n",
       "      <td>2015</td>\n",
       "      <td>NaN</td>\n",
       "      <td>NaN</td>\n",
       "      <td>NaN</td>\n",
       "      <td>2015031024807</td>\n",
       "      <td>79884</td>\n",
       "      <td>20150307</td>\n",
       "      <td>3</td>\n",
       "      <td>...</td>\n",
       "      <td>0</td>\n",
       "      <td>2</td>\n",
       "      <td>1</td>\n",
       "      <td>0</td>\n",
       "      <td>1.0</td>\n",
       "      <td>0.15</td>\n",
       "      <td>19640</td>\n",
       "      <td>3700</td>\n",
       "      <td>15940</td>\n",
       "      <td>2015</td>\n",
       "    </tr>\n",
       "    <tr>\n",
       "      <th>137160</th>\n",
       "      <td>64e6bd45960e3ecc4350399c</td>\n",
       "      <td>3000758</td>\n",
       "      <td>2015</td>\n",
       "      <td>NaN</td>\n",
       "      <td>NaN</td>\n",
       "      <td>NaN</td>\n",
       "      <td>2015050363901</td>\n",
       "      <td>79884</td>\n",
       "      <td>20150526</td>\n",
       "      <td>3</td>\n",
       "      <td>...</td>\n",
       "      <td>0</td>\n",
       "      <td>2</td>\n",
       "      <td>1</td>\n",
       "      <td>0</td>\n",
       "      <td>1.0</td>\n",
       "      <td>0.15</td>\n",
       "      <td>13470</td>\n",
       "      <td>2800</td>\n",
       "      <td>10670</td>\n",
       "      <td>2015</td>\n",
       "    </tr>\n",
       "    <tr>\n",
       "      <th>137161</th>\n",
       "      <td>64e6bd45960e3ecc4350399d</td>\n",
       "      <td>3000758</td>\n",
       "      <td>2015</td>\n",
       "      <td>NaN</td>\n",
       "      <td>NaN</td>\n",
       "      <td>NaN</td>\n",
       "      <td>2015040129477</td>\n",
       "      <td>79884</td>\n",
       "      <td>20150425</td>\n",
       "      <td>3</td>\n",
       "      <td>...</td>\n",
       "      <td>0</td>\n",
       "      <td>2</td>\n",
       "      <td>1</td>\n",
       "      <td>0</td>\n",
       "      <td>1.0</td>\n",
       "      <td>0.15</td>\n",
       "      <td>13530</td>\n",
       "      <td>2600</td>\n",
       "      <td>10930</td>\n",
       "      <td>2015</td>\n",
       "    </tr>\n",
       "    <tr>\n",
       "      <th>137162</th>\n",
       "      <td>64e6bd45960e3ecc4350399e</td>\n",
       "      <td>3000758</td>\n",
       "      <td>2015</td>\n",
       "      <td>NaN</td>\n",
       "      <td>NaN</td>\n",
       "      <td>NaN</td>\n",
       "      <td>2015092341857</td>\n",
       "      <td>122565</td>\n",
       "      <td>20150927</td>\n",
       "      <td>3</td>\n",
       "      <td>...</td>\n",
       "      <td>0</td>\n",
       "      <td>3</td>\n",
       "      <td>1</td>\n",
       "      <td>0</td>\n",
       "      <td>1.0</td>\n",
       "      <td>0.25</td>\n",
       "      <td>21730</td>\n",
       "      <td>6800</td>\n",
       "      <td>14930</td>\n",
       "      <td>2015</td>\n",
       "    </tr>\n",
       "  </tbody>\n",
       "</table>\n",
       "<p>137163 rows × 23 columns</p>\n",
       "</div>"
      ],
      "text/plain": [
       "                             _id  RN_INDI BTH_YYYY  DTH_YYYYMM     COD1  \\\n",
       "0       64e6bd24960e3ecc434e21b1   294364   1921LE    200707.0  T08-T14   \n",
       "1       64e6bd24960e3ecc434e21b2   294364   1921LE    200707.0  T08-T14   \n",
       "2       64e6bd24960e3ecc434e21b3   294364   1921LE    200707.0  T08-T14   \n",
       "3       64e6bd24960e3ecc434e21b4   294364   1921LE    200707.0  T08-T14   \n",
       "4       64e6bd24960e3ecc434e21b5   294364   1921LE    200707.0  T08-T14   \n",
       "...                          ...      ...      ...         ...      ...   \n",
       "137158  64e6bd45960e3ecc4350399a  3000758     2015         NaN      NaN   \n",
       "137159  64e6bd45960e3ecc4350399b  3000758     2015         NaN      NaN   \n",
       "137160  64e6bd45960e3ecc4350399c  3000758     2015         NaN      NaN   \n",
       "137161  64e6bd45960e3ecc4350399d  3000758     2015         NaN      NaN   \n",
       "137162  64e6bd45960e3ecc4350399e  3000758     2015         NaN      NaN   \n",
       "\n",
       "           COD2         RN_KEY  RN_INST  MDCARE_STRT_DT  FORM_CD  ...  \\\n",
       "0       W00-W19  2002080298703    26452        20020830        3  ...   \n",
       "1       W00-W19  2002090466395    63715        20020910        3  ...   \n",
       "2       W00-W19  2002091053122    63715        20020909        3  ...   \n",
       "3       W00-W19  2002020488631    23506        20020208        3  ...   \n",
       "4       W00-W19  2002060822342    23506        20020628        3  ...   \n",
       "...         ...            ...      ...             ...      ...  ...   \n",
       "137158      NaN  2015050998151    79884        20150506        3  ...   \n",
       "137159      NaN  2015031024807    79884        20150307        3  ...   \n",
       "137160      NaN  2015050363901    79884        20150526        3  ...   \n",
       "137161      NaN  2015040129477    79884        20150425        3  ...   \n",
       "137162      NaN  2015092341857   122565        20150927        3  ...   \n",
       "\n",
       "        OPRTN_YN MDCARE_DD_CNT VSHSP_DD_CNT  TOT_PRSC_DD_CNT  MCARE_RSLT_TYPE  \\\n",
       "0              0             1            1                3              5.0   \n",
       "1              0             1            1                2              5.0   \n",
       "2              0             3            3                3              5.0   \n",
       "3              0             1            1                3              5.0   \n",
       "4              0             1            1                0              5.0   \n",
       "...          ...           ...          ...              ...              ...   \n",
       "137158         0             2            1                0              1.0   \n",
       "137159         0             2            1                0              1.0   \n",
       "137160         0             2            1                0              1.0   \n",
       "137161         0             2            1                0              1.0   \n",
       "137162         0             3            1                0              1.0   \n",
       "\n",
       "        EDC_ADD_RT  ED_RC_TOT_AMT  EDC_SBA  EDC_INSUR_BRDN_AMT  STD_YYYY  \n",
       "0             0.15          10590     3000                7590      2002  \n",
       "1             0.15          16520     4950               11570      2002  \n",
       "2             0.15          27620     9000               18620      2002  \n",
       "3             0.15          12920     3000                9920      2002  \n",
       "4             0.15          14230     3000               11230      2002  \n",
       "...            ...            ...      ...                 ...       ...  \n",
       "137158        0.15          11280     2300                8980      2015  \n",
       "137159        0.15          19640     3700               15940      2015  \n",
       "137160        0.15          13470     2800               10670      2015  \n",
       "137161        0.15          13530     2600               10930      2015  \n",
       "137162        0.25          21730     6800               14930      2015  \n",
       "\n",
       "[137163 rows x 23 columns]"
      ]
     },
     "execution_count": 112,
     "metadata": {},
     "output_type": "execute_result"
    }
   ],
   "source": [
    "pd.DataFrame(list)"
   ]
  },
  {
   "cell_type": "code",
   "execution_count": 113,
   "id": "780e2e28-2139-47d2-ba18-d12b3378bc26",
   "metadata": {
    "tags": []
   },
   "outputs": [],
   "source": [
    "df_BND_M20 = pd.DataFrame(list)"
   ]
  },
  {
   "cell_type": "code",
   "execution_count": 114,
   "id": "e0342de5-e708-4916-b689-d320454195e0",
   "metadata": {
    "tags": []
   },
   "outputs": [],
   "source": [
    "df_BND_M20 = df_BND_M20[['SICK_SYM1','MCARE_SUBJ_CD','TOT_PRSC_DD_CNT','ED_RC_TOT_AMT','EDC_SBA', 'EDC_INSUR_BRDN_AMT']].copy()"
   ]
  },
  {
   "cell_type": "code",
   "execution_count": 115,
   "id": "d2bd77c3-aead-4c55-a3b1-6de44e67b105",
   "metadata": {
    "tags": []
   },
   "outputs": [
    {
     "data": {
      "text/html": [
       "<div>\n",
       "<style scoped>\n",
       "    .dataframe tbody tr th:only-of-type {\n",
       "        vertical-align: middle;\n",
       "    }\n",
       "\n",
       "    .dataframe tbody tr th {\n",
       "        vertical-align: top;\n",
       "    }\n",
       "\n",
       "    .dataframe thead th {\n",
       "        text-align: right;\n",
       "    }\n",
       "</style>\n",
       "<table border=\"1\" class=\"dataframe\">\n",
       "  <thead>\n",
       "    <tr style=\"text-align: right;\">\n",
       "      <th></th>\n",
       "      <th>SICK_SYM1</th>\n",
       "      <th>MCARE_SUBJ_CD</th>\n",
       "      <th>TOT_PRSC_DD_CNT</th>\n",
       "      <th>ED_RC_TOT_AMT</th>\n",
       "      <th>EDC_SBA</th>\n",
       "      <th>EDC_INSUR_BRDN_AMT</th>\n",
       "    </tr>\n",
       "  </thead>\n",
       "  <tbody>\n",
       "    <tr>\n",
       "      <th>0</th>\n",
       "      <td>L028</td>\n",
       "      <td>14</td>\n",
       "      <td>3</td>\n",
       "      <td>10590</td>\n",
       "      <td>3000</td>\n",
       "      <td>7590</td>\n",
       "    </tr>\n",
       "    <tr>\n",
       "      <th>1</th>\n",
       "      <td>J030</td>\n",
       "      <td>13</td>\n",
       "      <td>2</td>\n",
       "      <td>16520</td>\n",
       "      <td>4950</td>\n",
       "      <td>11570</td>\n",
       "    </tr>\n",
       "  </tbody>\n",
       "</table>\n",
       "</div>"
      ],
      "text/plain": [
       "  SICK_SYM1  MCARE_SUBJ_CD  TOT_PRSC_DD_CNT  ED_RC_TOT_AMT  EDC_SBA  \\\n",
       "0      L028             14                3          10590     3000   \n",
       "1      J030             13                2          16520     4950   \n",
       "\n",
       "   EDC_INSUR_BRDN_AMT  \n",
       "0                7590  \n",
       "1               11570  "
      ]
     },
     "execution_count": 115,
     "metadata": {},
     "output_type": "execute_result"
    }
   ],
   "source": [
    "df_BND_M20[:2]"
   ]
  },
  {
   "cell_type": "code",
   "execution_count": 116,
   "id": "6a4c0224-5718-4650-8b71-3840d2f28cd0",
   "metadata": {
    "tags": []
   },
   "outputs": [
    {
     "data": {
      "text/plain": [
       "J209     8244\n",
       "I10      4629\n",
       "I109     3275\n",
       "F_       3203\n",
       "N_       3177\n",
       "         ... \n",
       "H700        1\n",
       "E058        1\n",
       "M5397       1\n",
       "T18         1\n",
       "P289        1\n",
       "Name: SICK_SYM1, Length: 3414, dtype: int64"
      ]
     },
     "execution_count": 116,
     "metadata": {},
     "output_type": "execute_result"
    }
   ],
   "source": [
    "df_BND_M20['SICK_SYM1'].value_counts()"
   ]
  },
  {
   "cell_type": "code",
   "execution_count": 117,
   "id": "98438f77-d858-4c1f-be6f-9805167ff440",
   "metadata": {
    "tags": []
   },
   "outputs": [],
   "source": [
    "def convertSICK_SYM(sick_sym) :\n",
    "    if len(sick_sym) < 3 :\n",
    "        return None\n",
    "    else :\n",
    "        return sick_sym[:3]"
   ]
  },
  {
   "cell_type": "code",
   "execution_count": 118,
   "id": "08596b94-13f2-4068-a5c5-c066a1969c6e",
   "metadata": {
    "tags": []
   },
   "outputs": [
    {
     "data": {
      "text/plain": [
       "('J20', None)"
      ]
     },
     "execution_count": 118,
     "metadata": {},
     "output_type": "execute_result"
    }
   ],
   "source": [
    "convertSICK_SYM('J209'), convertSICK_SYM('f_')"
   ]
  },
  {
   "cell_type": "code",
   "execution_count": 119,
   "id": "1e0eb955-5fdc-4e33-8201-6c668cccb4d9",
   "metadata": {
    "tags": []
   },
   "outputs": [],
   "source": [
    "df_BND_M20['SICK_SYM1_3'] = df_BND_M20['SICK_SYM1'].apply(convertSICK_SYM)"
   ]
  },
  {
   "cell_type": "code",
   "execution_count": 120,
   "id": "aec348a3-3b55-45be-a47e-70c5d5a857eb",
   "metadata": {
    "tags": []
   },
   "outputs": [
    {
     "data": {
      "text/plain": [
       "J20    8917\n",
       "I10    8427\n",
       "J03    4187\n",
       "M54    3904\n",
       "J06    3460\n",
       "       ... \n",
       "G97       1\n",
       "K01       1\n",
       "S28       1\n",
       "I72       1\n",
       "P28       1\n",
       "Name: SICK_SYM1_3, Length: 747, dtype: int64"
      ]
     },
     "execution_count": 120,
     "metadata": {},
     "output_type": "execute_result"
    }
   ],
   "source": [
    "df_BND_M20['SICK_SYM1_3'].value_counts()"
   ]
  },
  {
   "cell_type": "code",
   "execution_count": 121,
   "id": "becbc0c7-a563-4cbe-97e4-414b2f265830",
   "metadata": {
    "tags": []
   },
   "outputs": [
    {
     "data": {
      "text/plain": [
       "SICK_SYM1             0\n",
       "MCARE_SUBJ_CD         0\n",
       "TOT_PRSC_DD_CNT       0\n",
       "ED_RC_TOT_AMT         0\n",
       "EDC_SBA               0\n",
       "EDC_INSUR_BRDN_AMT    0\n",
       "SICK_SYM1_3           0\n",
       "dtype: int64"
      ]
     },
     "execution_count": 121,
     "metadata": {},
     "output_type": "execute_result"
    }
   ],
   "source": [
    "df_BND_M20_dropna = df_BND_M20.dropna()\n",
    "df_BND_M20_dropna.isnull().sum()"
   ]
  },
  {
   "cell_type": "code",
   "execution_count": 122,
   "id": "0c46f760-032b-40bb-94ab-d3ecaab4b16e",
   "metadata": {
    "tags": []
   },
   "outputs": [],
   "source": [
    "target_list = df_BND_M20_dropna['SICK_SYM1_3'].value_counts().index.to_list()"
   ]
  },
  {
   "cell_type": "code",
   "execution_count": 123,
   "id": "9bb298f6-5890-4769-b274-4ad7fc1531d9",
   "metadata": {
    "tags": []
   },
   "outputs": [
    {
     "data": {
      "text/plain": [
       "62"
      ]
     },
     "execution_count": 123,
     "metadata": {},
     "output_type": "execute_result"
    }
   ],
   "source": [
    "target_list.index('L20')"
   ]
  },
  {
   "cell_type": "code",
   "execution_count": 124,
   "id": "7527b2cc-5da6-4107-8725-1f8c8453e4de",
   "metadata": {
    "tags": []
   },
   "outputs": [],
   "source": [
    "def appyIndexNumber(sick_sym_3):\n",
    "    indexNumber = target_list.index(sick_sym_3)\n",
    "    return indexNumber"
   ]
  },
  {
   "cell_type": "code",
   "execution_count": 126,
   "id": "205d9946-7caf-4f08-8273-00e07fe4d53b",
   "metadata": {
    "tags": []
   },
   "outputs": [
    {
     "name": "stderr",
     "output_type": "stream",
     "text": [
      "C:\\Users\\05-27\\AppData\\Local\\Temp\\ipykernel_6320\\2060043049.py:1: SettingWithCopyWarning: \n",
      "A value is trying to be set on a copy of a slice from a DataFrame.\n",
      "Try using .loc[row_indexer,col_indexer] = value instead\n",
      "\n",
      "See the caveats in the documentation: https://pandas.pydata.org/pandas-docs/stable/user_guide/indexing.html#returning-a-view-versus-a-copy\n",
      "  df_BND_M20_dropna['SICK_SYM1_4'] = df_BND_M20_dropna['SICK_SYM1_3'].apply(appyIndexNumber)\n"
     ]
    }
   ],
   "source": [
    " df_BND_M20_dropna['SICK_SYM1_4'] = df_BND_M20_dropna['SICK_SYM1_3'].apply(appyIndexNumber)"
   ]
  },
  {
   "cell_type": "code",
   "execution_count": 127,
   "id": "12b6a6a1-be05-4e5e-826e-c63a5eaa08d5",
   "metadata": {
    "tags": []
   },
   "outputs": [
    {
     "data": {
      "text/plain": [
       "0         42\n",
       "1          2\n",
       "2          2\n",
       "3         10\n",
       "4          3\n",
       "          ..\n",
       "137158     0\n",
       "137159     0\n",
       "137160     0\n",
       "137161     0\n",
       "137162    11\n",
       "Name: SICK_SYM1_4, Length: 125809, dtype: int64"
      ]
     },
     "execution_count": 127,
     "metadata": {},
     "output_type": "execute_result"
    }
   ],
   "source": [
    " df_BND_M20_dropna['SICK_SYM1_4']"
   ]
  },
  {
   "cell_type": "code",
   "execution_count": 128,
   "id": "725bf384-f503-4e98-81de-fcb74263c550",
   "metadata": {
    "tags": []
   },
   "outputs": [
    {
     "name": "stdout",
     "output_type": "stream",
     "text": [
      "<class 'pandas.core.frame.DataFrame'>\n",
      "Int64Index: 125809 entries, 0 to 137162\n",
      "Data columns (total 8 columns):\n",
      " #   Column              Non-Null Count   Dtype \n",
      "---  ------              --------------   ----- \n",
      " 0   SICK_SYM1           125809 non-null  object\n",
      " 1   MCARE_SUBJ_CD       125809 non-null  int64 \n",
      " 2   TOT_PRSC_DD_CNT     125809 non-null  int64 \n",
      " 3   ED_RC_TOT_AMT       125809 non-null  int64 \n",
      " 4   EDC_SBA             125809 non-null  int64 \n",
      " 5   EDC_INSUR_BRDN_AMT  125809 non-null  int64 \n",
      " 6   SICK_SYM1_3         125809 non-null  object\n",
      " 7   SICK_SYM1_4         125809 non-null  int64 \n",
      "dtypes: int64(6), object(2)\n",
      "memory usage: 8.6+ MB\n"
     ]
    }
   ],
   "source": [
    "df_BND_M20_dropna.info()"
   ]
  },
  {
   "cell_type": "code",
   "execution_count": null,
   "id": "cafadc7f-7931-4f5c-a277-839af6b7a5da",
   "metadata": {},
   "outputs": [],
   "source": []
  }
 ],
 "metadata": {
  "kernelspec": {
   "display_name": "Python 3 (ipykernel)",
   "language": "python",
   "name": "python3"
  },
  "language_info": {
   "codemirror_mode": {
    "name": "ipython",
    "version": 3
   },
   "file_extension": ".py",
   "mimetype": "text/x-python",
   "name": "python",
   "nbconvert_exporter": "python",
   "pygments_lexer": "ipython3",
   "version": "3.11.3"
  }
 },
 "nbformat": 4,
 "nbformat_minor": 5
}
