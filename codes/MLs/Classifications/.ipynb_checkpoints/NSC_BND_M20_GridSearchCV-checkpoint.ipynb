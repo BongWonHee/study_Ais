{
 "cells": [
  {
   "cell_type": "markdown",
   "id": "7266351a-be10-4c5c-be96-81127a9825fd",
   "metadata": {},
   "source": [
    "### 전처리"
   ]
  },
  {
   "cell_type": "code",
   "execution_count": 1,
   "id": "891bab57-9675-49e9-b2db-294acad10be5",
   "metadata": {},
   "outputs": [],
   "source": [
    "import pymongo as mg\n",
    "import pandas as pd"
   ]
  },
  {
   "cell_type": "code",
   "execution_count": 2,
   "id": "b0c64e82-a26d-4896-ba20-548fb53a5151",
   "metadata": {},
   "outputs": [],
   "source": [
    "client = mg.MongoClient(host='mongodb://localhost:27017')"
   ]
  },
  {
   "cell_type": "code",
   "execution_count": 7,
   "id": "e01cdd04-218e-400a-9c29-b3658b25ca24",
   "metadata": {},
   "outputs": [],
   "source": [
    "database = client['db_NHIS']\n",
    "collection = database['Join_NSC2_BND_M20']"
   ]
  },
  {
   "cell_type": "code",
   "execution_count": 8,
   "id": "473451b0-f511-41bb-a341-960ec151001e",
   "metadata": {},
   "outputs": [],
   "source": [
    "cursor = collection.find({})\n",
    "list_BND_M20 = list(cursor)"
   ]
  },
  {
   "cell_type": "code",
   "execution_count": 9,
   "id": "acb94c67-85f2-465e-a89c-96861024144c",
   "metadata": {},
   "outputs": [
    {
     "data": {
      "text/html": [
       "<div>\n",
       "<style scoped>\n",
       "    .dataframe tbody tr th:only-of-type {\n",
       "        vertical-align: middle;\n",
       "    }\n",
       "\n",
       "    .dataframe tbody tr th {\n",
       "        vertical-align: top;\n",
       "    }\n",
       "\n",
       "    .dataframe thead th {\n",
       "        text-align: right;\n",
       "    }\n",
       "</style>\n",
       "<table border=\"1\" class=\"dataframe\">\n",
       "  <thead>\n",
       "    <tr style=\"text-align: right;\">\n",
       "      <th></th>\n",
       "      <th>_id</th>\n",
       "      <th>RN_INDI</th>\n",
       "      <th>BTH_YYYY</th>\n",
       "      <th>DTH_YYYYMM</th>\n",
       "      <th>COD1</th>\n",
       "      <th>COD2</th>\n",
       "      <th>RN_KEY</th>\n",
       "      <th>RN_INST</th>\n",
       "      <th>MDCARE_STRT_DT</th>\n",
       "      <th>FORM_CD</th>\n",
       "      <th>...</th>\n",
       "      <th>OPRTN_YN</th>\n",
       "      <th>MDCARE_DD_CNT</th>\n",
       "      <th>VSHSP_DD_CNT</th>\n",
       "      <th>TOT_PRSC_DD_CNT</th>\n",
       "      <th>MCARE_RSLT_TYPE</th>\n",
       "      <th>EDC_ADD_RT</th>\n",
       "      <th>ED_RC_TOT_AMT</th>\n",
       "      <th>EDC_SBA</th>\n",
       "      <th>EDC_INSUR_BRDN_AMT</th>\n",
       "      <th>STD_YYYY</th>\n",
       "    </tr>\n",
       "  </thead>\n",
       "  <tbody>\n",
       "    <tr>\n",
       "      <th>0</th>\n",
       "      <td>64e6bd24960e3ecc434e21b1</td>\n",
       "      <td>294364</td>\n",
       "      <td>1921LE</td>\n",
       "      <td>200707.0</td>\n",
       "      <td>T08-T14</td>\n",
       "      <td>W00-W19</td>\n",
       "      <td>2002080298703</td>\n",
       "      <td>26452</td>\n",
       "      <td>20020830</td>\n",
       "      <td>3</td>\n",
       "      <td>...</td>\n",
       "      <td>0</td>\n",
       "      <td>1</td>\n",
       "      <td>1</td>\n",
       "      <td>3</td>\n",
       "      <td>5.0</td>\n",
       "      <td>0.15</td>\n",
       "      <td>10590</td>\n",
       "      <td>3000</td>\n",
       "      <td>7590</td>\n",
       "      <td>2002</td>\n",
       "    </tr>\n",
       "    <tr>\n",
       "      <th>1</th>\n",
       "      <td>64e6bd24960e3ecc434e21b2</td>\n",
       "      <td>294364</td>\n",
       "      <td>1921LE</td>\n",
       "      <td>200707.0</td>\n",
       "      <td>T08-T14</td>\n",
       "      <td>W00-W19</td>\n",
       "      <td>2002090466395</td>\n",
       "      <td>63715</td>\n",
       "      <td>20020910</td>\n",
       "      <td>3</td>\n",
       "      <td>...</td>\n",
       "      <td>0</td>\n",
       "      <td>1</td>\n",
       "      <td>1</td>\n",
       "      <td>2</td>\n",
       "      <td>5.0</td>\n",
       "      <td>0.15</td>\n",
       "      <td>16520</td>\n",
       "      <td>4950</td>\n",
       "      <td>11570</td>\n",
       "      <td>2002</td>\n",
       "    </tr>\n",
       "  </tbody>\n",
       "</table>\n",
       "<p>2 rows × 23 columns</p>\n",
       "</div>"
      ],
      "text/plain": [
       "                        _id  RN_INDI BTH_YYYY  DTH_YYYYMM     COD1     COD2  \\\n",
       "0  64e6bd24960e3ecc434e21b1   294364   1921LE    200707.0  T08-T14  W00-W19   \n",
       "1  64e6bd24960e3ecc434e21b2   294364   1921LE    200707.0  T08-T14  W00-W19   \n",
       "\n",
       "          RN_KEY  RN_INST  MDCARE_STRT_DT  FORM_CD  ...  OPRTN_YN  \\\n",
       "0  2002080298703    26452        20020830        3  ...         0   \n",
       "1  2002090466395    63715        20020910        3  ...         0   \n",
       "\n",
       "  MDCARE_DD_CNT VSHSP_DD_CNT  TOT_PRSC_DD_CNT  MCARE_RSLT_TYPE  EDC_ADD_RT  \\\n",
       "0             1            1                3              5.0        0.15   \n",
       "1             1            1                2              5.0        0.15   \n",
       "\n",
       "   ED_RC_TOT_AMT  EDC_SBA  EDC_INSUR_BRDN_AMT  STD_YYYY  \n",
       "0          10590     3000                7590      2002  \n",
       "1          16520     4950               11570      2002  \n",
       "\n",
       "[2 rows x 23 columns]"
      ]
     },
     "execution_count": 9,
     "metadata": {},
     "output_type": "execute_result"
    }
   ],
   "source": [
    "df_BND_M20 = pd.DataFrame(list_BND_M20)\n",
    "df_BND_M20[:2]"
   ]
  },
  {
   "cell_type": "code",
   "execution_count": 10,
   "id": "d6797486-ab68-4bb4-bf4f-2e052cdcd101",
   "metadata": {},
   "outputs": [
    {
     "data": {
      "text/plain": [
       "J209     8244\n",
       "I10      4629\n",
       "I109     3275\n",
       "F_       3203\n",
       "N_       3177\n",
       "         ... \n",
       "H700        1\n",
       "E058        1\n",
       "M5397       1\n",
       "T18         1\n",
       "P289        1\n",
       "Name: SICK_SYM1, Length: 3414, dtype: int64"
      ]
     },
     "execution_count": 10,
     "metadata": {},
     "output_type": "execute_result"
    }
   ],
   "source": [
    "df_BND_M20['SICK_SYM1'].value_counts()"
   ]
  },
  {
   "cell_type": "code",
   "execution_count": 11,
   "id": "1edc9438-2df4-45a3-aad7-a95319b2a841",
   "metadata": {},
   "outputs": [
    {
     "data": {
      "text/plain": [
       "(2, 4, 'J20', 'T18')"
      ]
     },
     "execution_count": 11,
     "metadata": {},
     "output_type": "execute_result"
    }
   ],
   "source": [
    "len('F_'), len('J209'), 'J209'[:3], str('T18')[:3]"
   ]
  },
  {
   "cell_type": "code",
   "execution_count": 12,
   "id": "827c5db0-d491-41e8-9ae9-638e0c71c761",
   "metadata": {},
   "outputs": [],
   "source": [
    "def convertSICK_SYM(sick_sym) :\n",
    "    if len(sick_sym) < 3:\n",
    "        return None\n",
    "    else :\n",
    "        return sick_sym[:3]"
   ]
  },
  {
   "cell_type": "code",
   "execution_count": 13,
   "id": "2198be75-3008-41fa-b813-713dbec41b7d",
   "metadata": {},
   "outputs": [
    {
     "data": {
      "text/plain": [
       "('J20', None)"
      ]
     },
     "execution_count": 13,
     "metadata": {},
     "output_type": "execute_result"
    }
   ],
   "source": [
    "convertSICK_SYM('J209'), convertSICK_SYM('F_')"
   ]
  },
  {
   "cell_type": "code",
   "execution_count": 14,
   "id": "76d1e850-13c2-44f2-99b8-a826453db32e",
   "metadata": {},
   "outputs": [],
   "source": [
    "df_BND_M20['SICK_SYM1_3'] = df_BND_M20['SICK_SYM1'].apply(convertSICK_SYM)"
   ]
  },
  {
   "cell_type": "code",
   "execution_count": 15,
   "id": "6a013c2f-80fa-47b9-93a9-5284ca18dc40",
   "metadata": {},
   "outputs": [
    {
     "data": {
      "text/plain": [
       "J20    8917\n",
       "I10    8427\n",
       "J03    4187\n",
       "M54    3904\n",
       "J06    3460\n",
       "       ... \n",
       "G97       1\n",
       "K01       1\n",
       "S28       1\n",
       "I72       1\n",
       "P28       1\n",
       "Name: SICK_SYM1_3, Length: 747, dtype: int64"
      ]
     },
     "execution_count": 15,
     "metadata": {},
     "output_type": "execute_result"
    }
   ],
   "source": [
    "df_BND_M20['SICK_SYM1_3'].value_counts()"
   ]
  },
  {
   "cell_type": "raw",
   "id": "8baaa5f6-a557-437a-80ab-379131d78155",
   "metadata": {
    "jupyter": {
     "outputs_hidden": true
    },
    "tags": []
   },
   "source": [
    "df_BND_M20_dropna = df_BND_M20.dropna()\n",
    "df_BND_M20_dropna.isnull().sum()"
   ]
  },
  {
   "cell_type": "code",
   "execution_count": 17,
   "id": "9c4aa761-685b-424c-be36-c5be746a5136",
   "metadata": {},
   "outputs": [
    {
     "data": {
      "text/html": [
       "<div>\n",
       "<style scoped>\n",
       "    .dataframe tbody tr th:only-of-type {\n",
       "        vertical-align: middle;\n",
       "    }\n",
       "\n",
       "    .dataframe tbody tr th {\n",
       "        vertical-align: top;\n",
       "    }\n",
       "\n",
       "    .dataframe thead th {\n",
       "        text-align: right;\n",
       "    }\n",
       "</style>\n",
       "<table border=\"1\" class=\"dataframe\">\n",
       "  <thead>\n",
       "    <tr style=\"text-align: right;\">\n",
       "      <th></th>\n",
       "      <th>_id</th>\n",
       "      <th>RN_INDI</th>\n",
       "      <th>BTH_YYYY</th>\n",
       "      <th>DTH_YYYYMM</th>\n",
       "      <th>COD1</th>\n",
       "      <th>COD2</th>\n",
       "      <th>RN_KEY</th>\n",
       "      <th>RN_INST</th>\n",
       "      <th>MDCARE_STRT_DT</th>\n",
       "      <th>FORM_CD</th>\n",
       "      <th>...</th>\n",
       "      <th>MDCARE_DD_CNT</th>\n",
       "      <th>VSHSP_DD_CNT</th>\n",
       "      <th>TOT_PRSC_DD_CNT</th>\n",
       "      <th>MCARE_RSLT_TYPE</th>\n",
       "      <th>EDC_ADD_RT</th>\n",
       "      <th>ED_RC_TOT_AMT</th>\n",
       "      <th>EDC_SBA</th>\n",
       "      <th>EDC_INSUR_BRDN_AMT</th>\n",
       "      <th>STD_YYYY</th>\n",
       "      <th>SICK_SYM1_3</th>\n",
       "    </tr>\n",
       "  </thead>\n",
       "  <tbody>\n",
       "    <tr>\n",
       "      <th>0</th>\n",
       "      <td>64e6bd24960e3ecc434e21b1</td>\n",
       "      <td>294364</td>\n",
       "      <td>1921LE</td>\n",
       "      <td>200707.0</td>\n",
       "      <td>T08-T14</td>\n",
       "      <td>W00-W19</td>\n",
       "      <td>2002080298703</td>\n",
       "      <td>26452</td>\n",
       "      <td>20020830</td>\n",
       "      <td>3</td>\n",
       "      <td>...</td>\n",
       "      <td>1</td>\n",
       "      <td>1</td>\n",
       "      <td>3</td>\n",
       "      <td>5.0</td>\n",
       "      <td>0.15</td>\n",
       "      <td>10590</td>\n",
       "      <td>3000</td>\n",
       "      <td>7590</td>\n",
       "      <td>2002</td>\n",
       "      <td>L02</td>\n",
       "    </tr>\n",
       "    <tr>\n",
       "      <th>3</th>\n",
       "      <td>64e6bd24960e3ecc434e21b4</td>\n",
       "      <td>294364</td>\n",
       "      <td>1921LE</td>\n",
       "      <td>200707.0</td>\n",
       "      <td>T08-T14</td>\n",
       "      <td>W00-W19</td>\n",
       "      <td>2002020488631</td>\n",
       "      <td>23506</td>\n",
       "      <td>20020208</td>\n",
       "      <td>3</td>\n",
       "      <td>...</td>\n",
       "      <td>1</td>\n",
       "      <td>1</td>\n",
       "      <td>3</td>\n",
       "      <td>5.0</td>\n",
       "      <td>0.15</td>\n",
       "      <td>12920</td>\n",
       "      <td>3000</td>\n",
       "      <td>9920</td>\n",
       "      <td>2002</td>\n",
       "      <td>K29</td>\n",
       "    </tr>\n",
       "  </tbody>\n",
       "</table>\n",
       "<p>2 rows × 24 columns</p>\n",
       "</div>"
      ],
      "text/plain": [
       "                        _id  RN_INDI BTH_YYYY  DTH_YYYYMM     COD1     COD2  \\\n",
       "0  64e6bd24960e3ecc434e21b1   294364   1921LE    200707.0  T08-T14  W00-W19   \n",
       "3  64e6bd24960e3ecc434e21b4   294364   1921LE    200707.0  T08-T14  W00-W19   \n",
       "\n",
       "          RN_KEY  RN_INST  MDCARE_STRT_DT  FORM_CD  ...  MDCARE_DD_CNT  \\\n",
       "0  2002080298703    26452        20020830        3  ...              1   \n",
       "3  2002020488631    23506        20020208        3  ...              1   \n",
       "\n",
       "  VSHSP_DD_CNT TOT_PRSC_DD_CNT  MCARE_RSLT_TYPE  EDC_ADD_RT  ED_RC_TOT_AMT  \\\n",
       "0            1               3              5.0        0.15          10590   \n",
       "3            1               3              5.0        0.15          12920   \n",
       "\n",
       "   EDC_SBA  EDC_INSUR_BRDN_AMT  STD_YYYY  SICK_SYM1_3  \n",
       "0     3000                7590      2002          L02  \n",
       "3     3000                9920      2002          K29  \n",
       "\n",
       "[2 rows x 24 columns]"
      ]
     },
     "execution_count": 17,
     "metadata": {},
     "output_type": "execute_result"
    }
   ],
   "source": [
    "df_BND_M20_dropna[:2]"
   ]
  },
  {
   "cell_type": "code",
   "execution_count": 18,
   "id": "f6b45397-d425-488e-ae2c-086f28a6ba82",
   "metadata": {},
   "outputs": [],
   "source": [
    "target_list = df_BND_M20_dropna['SICK_SYM1_3'].value_counts().index.to_list()"
   ]
  },
  {
   "cell_type": "code",
   "execution_count": 19,
   "id": "b6cfe6eb-8c4a-49af-9da7-6a85767b6f6b",
   "metadata": {},
   "outputs": [
    {
     "data": {
      "text/plain": [
       "(83, 6)"
      ]
     },
     "execution_count": 19,
     "metadata": {},
     "output_type": "execute_result"
    }
   ],
   "source": [
    "target_list.index('L02'), target_list.index('J03'), "
   ]
  },
  {
   "cell_type": "code",
   "execution_count": 20,
   "id": "ffac0ca7-42d5-401e-b38e-568283b44f7a",
   "metadata": {},
   "outputs": [],
   "source": [
    "def applyIndexNumber(sick_sym_3):\n",
    "    indexNumber = target_list.index(sick_sym_3)\n",
    "    return indexNumber"
   ]
  },
  {
   "cell_type": "code",
   "execution_count": 21,
   "id": "6d11afca-09ea-4d1c-83b6-5a6abbb9fc3a",
   "metadata": {},
   "outputs": [
    {
     "name": "stderr",
     "output_type": "stream",
     "text": [
      "C:\\Users\\05-27\\AppData\\Local\\Temp\\ipykernel_8116\\836018491.py:1: SettingWithCopyWarning: \n",
      "A value is trying to be set on a copy of a slice from a DataFrame.\n",
      "Try using .loc[row_indexer,col_indexer] = value instead\n",
      "\n",
      "See the caveats in the documentation: https://pandas.pydata.org/pandas-docs/stable/user_guide/indexing.html#returning-a-view-versus-a-copy\n",
      "  df_BND_M20_dropna['SICK_SYM1_3_target'] = df_BND_M20_dropna['SICK_SYM1_3'].apply(applyIndexNumber)\n"
     ]
    },
    {
     "data": {
      "text/html": [
       "<div>\n",
       "<style scoped>\n",
       "    .dataframe tbody tr th:only-of-type {\n",
       "        vertical-align: middle;\n",
       "    }\n",
       "\n",
       "    .dataframe tbody tr th {\n",
       "        vertical-align: top;\n",
       "    }\n",
       "\n",
       "    .dataframe thead th {\n",
       "        text-align: right;\n",
       "    }\n",
       "</style>\n",
       "<table border=\"1\" class=\"dataframe\">\n",
       "  <thead>\n",
       "    <tr style=\"text-align: right;\">\n",
       "      <th></th>\n",
       "      <th>_id</th>\n",
       "      <th>RN_INDI</th>\n",
       "      <th>BTH_YYYY</th>\n",
       "      <th>DTH_YYYYMM</th>\n",
       "      <th>COD1</th>\n",
       "      <th>COD2</th>\n",
       "      <th>RN_KEY</th>\n",
       "      <th>RN_INST</th>\n",
       "      <th>MDCARE_STRT_DT</th>\n",
       "      <th>FORM_CD</th>\n",
       "      <th>...</th>\n",
       "      <th>VSHSP_DD_CNT</th>\n",
       "      <th>TOT_PRSC_DD_CNT</th>\n",
       "      <th>MCARE_RSLT_TYPE</th>\n",
       "      <th>EDC_ADD_RT</th>\n",
       "      <th>ED_RC_TOT_AMT</th>\n",
       "      <th>EDC_SBA</th>\n",
       "      <th>EDC_INSUR_BRDN_AMT</th>\n",
       "      <th>STD_YYYY</th>\n",
       "      <th>SICK_SYM1_3</th>\n",
       "      <th>SICK_SYM1_3_target</th>\n",
       "    </tr>\n",
       "  </thead>\n",
       "  <tbody>\n",
       "    <tr>\n",
       "      <th>0</th>\n",
       "      <td>64e6bd24960e3ecc434e21b1</td>\n",
       "      <td>294364</td>\n",
       "      <td>1921LE</td>\n",
       "      <td>200707.0</td>\n",
       "      <td>T08-T14</td>\n",
       "      <td>W00-W19</td>\n",
       "      <td>2002080298703</td>\n",
       "      <td>26452</td>\n",
       "      <td>20020830</td>\n",
       "      <td>3</td>\n",
       "      <td>...</td>\n",
       "      <td>1</td>\n",
       "      <td>3</td>\n",
       "      <td>5.0</td>\n",
       "      <td>0.15</td>\n",
       "      <td>10590</td>\n",
       "      <td>3000</td>\n",
       "      <td>7590</td>\n",
       "      <td>2002</td>\n",
       "      <td>L02</td>\n",
       "      <td>83</td>\n",
       "    </tr>\n",
       "    <tr>\n",
       "      <th>3</th>\n",
       "      <td>64e6bd24960e3ecc434e21b4</td>\n",
       "      <td>294364</td>\n",
       "      <td>1921LE</td>\n",
       "      <td>200707.0</td>\n",
       "      <td>T08-T14</td>\n",
       "      <td>W00-W19</td>\n",
       "      <td>2002020488631</td>\n",
       "      <td>23506</td>\n",
       "      <td>20020208</td>\n",
       "      <td>3</td>\n",
       "      <td>...</td>\n",
       "      <td>1</td>\n",
       "      <td>3</td>\n",
       "      <td>5.0</td>\n",
       "      <td>0.15</td>\n",
       "      <td>12920</td>\n",
       "      <td>3000</td>\n",
       "      <td>9920</td>\n",
       "      <td>2002</td>\n",
       "      <td>K29</td>\n",
       "      <td>8</td>\n",
       "    </tr>\n",
       "  </tbody>\n",
       "</table>\n",
       "<p>2 rows × 25 columns</p>\n",
       "</div>"
      ],
      "text/plain": [
       "                        _id  RN_INDI BTH_YYYY  DTH_YYYYMM     COD1     COD2  \\\n",
       "0  64e6bd24960e3ecc434e21b1   294364   1921LE    200707.0  T08-T14  W00-W19   \n",
       "3  64e6bd24960e3ecc434e21b4   294364   1921LE    200707.0  T08-T14  W00-W19   \n",
       "\n",
       "          RN_KEY  RN_INST  MDCARE_STRT_DT  FORM_CD  ...  VSHSP_DD_CNT  \\\n",
       "0  2002080298703    26452        20020830        3  ...             1   \n",
       "3  2002020488631    23506        20020208        3  ...             1   \n",
       "\n",
       "  TOT_PRSC_DD_CNT MCARE_RSLT_TYPE  EDC_ADD_RT  ED_RC_TOT_AMT  EDC_SBA  \\\n",
       "0               3             5.0        0.15          10590     3000   \n",
       "3               3             5.0        0.15          12920     3000   \n",
       "\n",
       "   EDC_INSUR_BRDN_AMT  STD_YYYY  SICK_SYM1_3  SICK_SYM1_3_target  \n",
       "0                7590      2002          L02                  83  \n",
       "3                9920      2002          K29                   8  \n",
       "\n",
       "[2 rows x 25 columns]"
      ]
     },
     "execution_count": 21,
     "metadata": {},
     "output_type": "execute_result"
    }
   ],
   "source": [
    "df_BND_M20_dropna['SICK_SYM1_3_target'] = df_BND_M20_dropna['SICK_SYM1_3'].apply(applyIndexNumber)\n",
    "df_BND_M20_dropna[:2]"
   ]
  },
  {
   "cell_type": "markdown",
   "id": "80d39255-89ab-403f-837a-ac67ef3a0938",
   "metadata": {},
   "source": [
    "#### 정형화"
   ]
  },
  {
   "cell_type": "code",
   "execution_count": 22,
   "id": "36b782c8-a8ba-4f8e-abc2-023b9f7f5d91",
   "metadata": {
    "tags": []
   },
   "outputs": [
    {
     "data": {
      "text/plain": [
       "Index(['_id', 'RN_INDI', 'BTH_YYYY', 'DTH_YYYYMM', 'COD1', 'COD2', 'RN_KEY',\n",
       "       'RN_INST', 'MDCARE_STRT_DT', 'FORM_CD', 'MCARE_SUBJ_CD', 'SICK_SYM1',\n",
       "       'OFIJ_TYPE', 'OPRTN_YN', 'MDCARE_DD_CNT', 'VSHSP_DD_CNT',\n",
       "       'TOT_PRSC_DD_CNT', 'MCARE_RSLT_TYPE', 'EDC_ADD_RT', 'ED_RC_TOT_AMT',\n",
       "       'EDC_SBA', 'EDC_INSUR_BRDN_AMT', 'STD_YYYY', 'SICK_SYM1_3',\n",
       "       'SICK_SYM1_3_target'],\n",
       "      dtype='object')"
      ]
     },
     "execution_count": 22,
     "metadata": {},
     "output_type": "execute_result"
    }
   ],
   "source": [
    "df_BND_M20_dropna.columns"
   ]
  },
  {
   "cell_type": "code",
   "execution_count": 23,
   "id": "7d94e098-23f2-4f3b-8994-e1c2d30db1f3",
   "metadata": {
    "tags": []
   },
   "outputs": [
    {
     "data": {
      "text/plain": [
       "((829,), (829, 2))"
      ]
     },
     "execution_count": 23,
     "metadata": {},
     "output_type": "execute_result"
    }
   ],
   "source": [
    "target = df_BND_M20_dropna['SICK_SYM1_3_target']\n",
    "features = df_BND_M20_dropna[['EDC_ADD_RT', 'ED_RC_TOT_AMT']]\n",
    "target.shape, features.shape"
   ]
  },
  {
   "cell_type": "code",
   "execution_count": 26,
   "id": "b930b93f-ff6d-4765-8f44-66acf179948b",
   "metadata": {
    "tags": []
   },
   "outputs": [
    {
     "data": {
      "text/plain": [
       "((621, 2), (208, 2), (621,), (208,))"
      ]
     },
     "execution_count": 26,
     "metadata": {},
     "output_type": "execute_result"
    }
   ],
   "source": [
    "from sklearn.model_selection import train_test_split\n",
    "features_train,features_test, target_train,target_test = train_test_split(features, target, random_state=111)\n",
    "features_train.shape,features_test.shape, target_train.shape,target_test.shape"
   ]
  },
  {
   "cell_type": "markdown",
   "id": "c1d91f49-97f5-47af-ad74-a544abd44af2",
   "metadata": {},
   "source": [
    "#### 모델학습"
   ]
  },
  {
   "cell_type": "code",
   "execution_count": 27,
   "id": "79b9a9ec-a523-4eec-a461-e97b4cdaaa0d",
   "metadata": {
    "tags": []
   },
   "outputs": [],
   "source": [
    "from sklearn.tree import DecisionTreeClassifier, DecisionTreeRegressor #범주형 Classifier 연속형 Regressor"
   ]
  },
  {
   "cell_type": "code",
   "execution_count": 28,
   "id": "b7642747-04e9-458a-a8f1-31c23af59e92",
   "metadata": {
    "tags": []
   },
   "outputs": [],
   "source": [
    "model = DecisionTreeClassifier()"
   ]
  },
  {
   "cell_type": "code",
   "execution_count": 29,
   "id": "a989e0ad-d34d-4d4e-ae20-19fa0bae6f9f",
   "metadata": {
    "tags": []
   },
   "outputs": [],
   "source": [
    "from sklearn.model_selection import GridSearchCV"
   ]
  },
  {
   "cell_type": "code",
   "execution_count": null,
   "id": "f8a5e6b6-396f-42f7-ac2a-5131a82ce26d",
   "metadata": {},
   "outputs": [],
   "source": [
    "hyper_params = {'min_samples_leaf' : [5, 7, 9],'max_depth' : [9, 11],'min_samples_split' : [5, 6, 7] }"
   ]
  },
  {
   "cell_type": "code",
   "execution_count": null,
   "id": "4a072351-b60e-421d-98df-9df2c724d0e5",
   "metadata": {},
   "outputs": [],
   "source": [
    "GridSearchCV(model, param_grid=)"
   ]
  }
 ],
 "metadata": {
  "kernelspec": {
   "display_name": "Python 3 (ipykernel)",
   "language": "python",
   "name": "python3"
  },
  "language_info": {
   "codemirror_mode": {
    "name": "ipython",
    "version": 3
   },
   "file_extension": ".py",
   "mimetype": "text/x-python",
   "name": "python",
   "nbconvert_exporter": "python",
   "pygments_lexer": "ipython3",
   "version": "3.11.3"
  }
 },
 "nbformat": 4,
 "nbformat_minor": 5
}
